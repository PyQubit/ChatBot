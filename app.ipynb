{
 "cells": [
  {
   "cell_type": "markdown",
   "id": "026e7dba",
   "metadata": {},
   "source": [
    "PyQubit Ai \n",
    "\n",
    "Developer:Mohammad Mahdi Omidvar "
   ]
  },
  {
   "cell_type": "code",
   "execution_count": null,
   "id": "7469ae82",
   "metadata": {},
   "outputs": [],
   "source": [
    "!pip install flask flask-cors ollama db-sqlite3\n",
    "#ollama pull gemma3:4b"
   ]
  },
  {
   "cell_type": "code",
   "execution_count": null,
   "id": "fddfe47b",
   "metadata": {},
   "outputs": [
    {
     "name": "stdout",
     "output_type": "stream",
     "text": [
      " * Serving Flask app '__main__'\n",
      " * Debug mode: off\n"
     ]
    },
    {
     "name": "stderr",
     "output_type": "stream",
     "text": [
      "WARNING: This is a development server. Do not use it in a production deployment. Use a production WSGI server instead.\n",
      " * Running on all addresses (0.0.0.0)\n",
      " * Running on http://127.0.0.1:5000\n",
      " * Running on http://10.21.214.186:5000\n",
      "Press CTRL+C to quit\n",
      "127.0.0.1 - - [05/Sep/2025 16:52:04] \"GET /?chat1=hello&mobile=09876545678987 HTTP/1.1\" 200 -\n"
     ]
    }
   ],
   "source": [
    "from flask import Flask, request, jsonify\n",
    "from flask_cors import CORS\n",
    "from ollama import chat\n",
    "import os\n",
    "import sqlite3\n",
    "\n",
    "\n",
    "app = Flask(__name__)\n",
    "CORS(app)\n",
    "\n",
    "DATABASE = 'chatbot.db'\n",
    "\n",
    "def init_db():\n",
    "    if not os.path.exists(DATABASE):\n",
    "        conn = sqlite3.connect(DATABASE)\n",
    "        cursor = conn.cursor()\n",
    "        cursor.execute('''\n",
    "            CREATE TABLE IF NOT EXISTS PyQubit (\n",
    "                id INTEGER PRIMARY KEY AUTOINCREMENT,\n",
    "                model TEXT,\n",
    "                user_id TEXT,\n",
    "                req TEXT,\n",
    "                res TEXT\n",
    "            )\n",
    "        ''')\n",
    "        conn.commit()\n",
    "        conn.close()\n",
    "\n",
    "init_db()\n",
    "\n",
    "@app.route('/', methods=['GET'])\n",
    "def home():\n",
    "    chat1= request.args.get('chat1')\n",
    "\n",
    "    mobile = request.args.get('mobile')\n",
    "\n",
    "    if not chat1 or not mobile:\n",
    "        return jsonify({\"error\"}), 400\n",
    "\n",
    "    contex='''     \n",
    "your name is PyQubit AI and You are AI \n",
    "    '''\n",
    "\n",
    "    messages = [{'role': 'system', 'content': contex}]\n",
    "    \n",
    "    conn = sqlite3.connect(DATABASE)\n",
    "    cursor = conn.cursor()\n",
    "\n",
    "    try:\n",
    "        cursor.execute(\"\"\"\n",
    "            SELECT req, res FROM PyQubit\n",
    "            WHERE user_id = ?\n",
    "            ORDER BY id DESC\n",
    "            LIMIT 40\n",
    "        \"\"\", (mobile,))\n",
    "        results = cursor.fetchall()\n",
    "        for row in reversed(results):\n",
    "            messages.append({\"role\": \"user\", \"content\": row[0]})\n",
    "            messages.append({\"role\": \"assistant\", \"content\": row[1]})\n",
    "    except Exception as e:\n",
    "        print(f\"history error {e}\")\n",
    "\n",
    "    soal = chat1\n",
    "    messages.append({'role': 'user', 'content': soal})\n",
    "\n",
    "    try:\n",
    "        stream = chat(\n",
    "            model='gemma3:4b',\n",
    "            messages=messages\n",
    "        )\n",
    "\n",
    "        out = stream.message.content \n",
    "\n",
    "        cursor.execute(\"\"\"\n",
    "            INSERT INTO PyQubit\n",
    "            (model, user_id, req, res)\n",
    "            VALUES (?, ?, ?, ?)\n",
    "        \"\"\", ('gemma3:4b', mobile, chat1, out))\n",
    "        conn.commit()\n",
    "\n",
    "    except Exception as e:\n",
    "        print(f\"save error {e}\")\n",
    "        out = \"❌error \"\n",
    "\n",
    "    finally:\n",
    "        conn.close()\n",
    "\n",
    "    out = out.replace(\"\\n\", \"<br>\").replace(\"\\r\", \"<br>\").replace(\"\\\\\", \"'\").replace('\"', \"'\")\n",
    "    out = out.replace(\"*\", \"◾\").replace(\"####\", \"✅\").replace(\"###\", \"✅\").replace(\"##\", \"✅\")\n",
    "\n",
    "    return out\n",
    "\n",
    "if __name__ == '__main__':\n",
    "    app.run(host='0.0.0.0', port=5000)"
   ]
  }
 ],
 "metadata": {
  "kernelspec": {
   "display_name": "Python 3",
   "language": "python",
   "name": "python3"
  },
  "language_info": {
   "codemirror_mode": {
    "name": "ipython",
    "version": 3
   },
   "file_extension": ".py",
   "mimetype": "text/x-python",
   "name": "python",
   "nbconvert_exporter": "python",
   "pygments_lexer": "ipython3",
   "version": "3.13.0"
  }
 },
 "nbformat": 4,
 "nbformat_minor": 5
}
